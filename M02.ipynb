{
 "cells": [
  {
   "cell_type": "code",
   "execution_count": 1,
   "id": "ad70ffa2-16ae-4078-98f6-60ee9bd60a4a",
   "metadata": {},
   "outputs": [
    {
     "name": "stdout",
     "output_type": "stream",
     "text": [
      "Too low\n",
      "Too low\n",
      "Too low\n",
      "YOU WIN!!!\n"
     ]
    }
   ],
   "source": [
    "## M02\n",
    "### 4.1\n",
    "import random\n",
    "\n",
    "\n",
    "def guess_number() -> str:\n",
    "    secret = random.randint(1,10)\n",
    "    guess = int(input('Guess the secret number \\n -->  '))\n",
    "    # print(secret)\n",
    "    while guess is not secret:\n",
    "        if guess < secret:\n",
    "            print('Too low')\n",
    "            guess = int(input('Try again! \\n --> '))\n",
    "        else:\n",
    "            print('Too high')\n",
    "            guess = int(input('Try again! \\n --> '))\n",
    "    return print('YOU WIN!!!')\n",
    "\n",
    "guess_number()\n"
   ]
  },
  {
   "cell_type": "code",
   "execution_count": 5,
   "id": "cbeb8c70-a289-40af-8d73-3733b2fbfa08",
   "metadata": {},
   "outputs": [
    {
     "name": "stdout",
     "output_type": "stream",
     "text": [
      "cherry\n"
     ]
    }
   ],
   "source": [
    "## 4.2\n",
    "small = True\n",
    "green = False\n",
    "\n",
    "if small and green:\n",
    "    print(\"pea\")\n",
    "elif small and not green:\n",
    "    print('cherry')\n",
    "elif green and not small:\n",
    "    print('watermelon')\n",
    "else:\n",
    "    print('pumpkin')"
   ]
  },
  {
   "cell_type": "code",
   "execution_count": 8,
   "id": "b577d713",
   "metadata": {},
   "outputs": [
    {
     "name": "stdout",
     "output_type": "stream",
     "text": [
      "3\n",
      "2\n",
      "1\n",
      "0\n"
     ]
    }
   ],
   "source": [
    "## 6.1\n",
    "#[print(i) for i in [3,2,1,0]]\n",
    "from tomlkit import value\n",
    "\n",
    "\n",
    "list = [3,2,1,0]\n",
    "for i in list:\n",
    "    print(i)"
   ]
  },
  {
   "cell_type": "code",
   "execution_count": 14,
   "id": "03138ef4",
   "metadata": {},
   "outputs": [
    {
     "name": "stdout",
     "output_type": "stream",
     "text": [
      "too low\n",
      "too low\n",
      "too low\n",
      "too low\n",
      "too low\n",
      "too low\n",
      "fount it!\n"
     ]
    }
   ],
   "source": [
    "## 6.2\n",
    "\n",
    "\n",
    "def guess_auto_add():\n",
    "\n",
    "    guess_me = 7\n",
    "    number = 1 \n",
    "    while number != guess_me:\n",
    "        if number > guess_me:\n",
    "            print('oops!')\n",
    "        else:\n",
    "            print(\"too low\")\n",
    "        number += 1\n",
    "    return 'fount it!'\n",
    "\n",
    "print(guess_auto_add())\n",
    "    "
   ]
  },
  {
   "cell_type": "code",
   "execution_count": 24,
   "id": "4d0821fd",
   "metadata": {},
   "outputs": [
    {
     "name": "stdout",
     "output_type": "stream",
     "text": [
      "too low\n",
      "too low\n",
      "too low\n",
      "too low\n",
      "too low\n",
      "too low\n",
      "too low\n",
      "found it\n"
     ]
    }
   ],
   "source": [
    "## 6.3\n",
    "\n",
    "\n",
    "def guess_range():\n",
    "    guess_me = 7\n",
    "    for number in range(11):\n",
    "        if number < guess_me:\n",
    "            print('too low')\n",
    "        elif number > guess_me:\n",
    "            print(\"oops!\")\n",
    "            break\n",
    "        else:\n",
    "            return 'found it'\n",
    "\n",
    "print(guess_range())"
   ]
  },
  {
   "cell_type": "code",
   "execution_count": null,
   "id": "67179633",
   "metadata": {},
   "outputs": [],
   "source": []
  }
 ],
 "metadata": {
  "kernelspec": {
   "display_name": "Python 3 (ipykernel)",
   "language": "python",
   "name": "python3"
  },
  "language_info": {
   "codemirror_mode": {
    "name": "ipython",
    "version": 3
   },
   "file_extension": ".py",
   "mimetype": "text/x-python",
   "name": "python",
   "nbconvert_exporter": "python",
   "pygments_lexer": "ipython3",
   "version": "3.11.7"
  }
 },
 "nbformat": 4,
 "nbformat_minor": 5
}
